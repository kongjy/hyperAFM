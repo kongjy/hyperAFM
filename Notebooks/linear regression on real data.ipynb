{
 "cells": [
  {
   "cell_type": "code",
   "execution_count": 29,
   "metadata": {
    "collapsed": true
   },
   "outputs": [],
   "source": [
    "from sklearn import linear_model\n",
    "import matplotlib.pyplot as plt\n",
    "import matplotlib.mlab as mlab\n",
    "import numpy as np\n",
    "import math\n",
    "from math import *"
   ]
  },
  {
   "cell_type": "code",
   "execution_count": 30,
   "metadata": {
    "collapsed": true
   },
   "outputs": [],
   "source": [
    "mu = 0\n",
    "mu2 = 0.5\n",
    "mu3 = 0.75"
   ]
  },
  {
   "cell_type": "code",
   "execution_count": 31,
   "metadata": {
    "collapsed": true
   },
   "outputs": [],
   "source": [
    "variance = 0.5\n",
    "variance2 = 1\n",
    "variance3 = 1.5\n"
   ]
  },
  {
   "cell_type": "code",
   "execution_count": 32,
   "metadata": {
    "collapsed": true
   },
   "outputs": [],
   "source": [
    "sigma = math.sqrt(variance)\n",
    "sigma2 = math.sqrt(variance2)\n",
    "sigma3 = math.sqrt(variance3)\n"
   ]
  },
  {
   "cell_type": "code",
   "execution_count": 33,
   "metadata": {
    "collapsed": true
   },
   "outputs": [],
   "source": [
    "x = np.linspace(mu-3*variance,mu+3*variance, 40)\n",
    "x2 = np.linspace(mu2-3*variance2, mu+3*variance2, 40)\n",
    "x3 = np.linspace(mu2-3*variance3, mu+3*variance3, 40)\n"
   ]
  },
  {
   "cell_type": "code",
   "execution_count": 34,
   "metadata": {
    "collapsed": true
   },
   "outputs": [],
   "source": [
    "A = np.zeros((559,1))\n",
    "A[20:60] = mlab.normpdf(x, mu, sigma).reshape(40,1)\n",
    "A[230:270] = mlab.normpdf(x2, mu2, sigma2).reshape(40,1)\n",
    "A[420:460] = mlab.normpdf(x3, mu3, sigma3).reshape(40,1)\n",
    "A = A.reshape(559)\n"
   ]
  },
  {
   "cell_type": "code",
   "execution_count": 35,
   "metadata": {
    "collapsed": true
   },
   "outputs": [],
   "source": [
    "B = np.zeros((559,1))\n",
    "B[23:63] = mlab.normpdf(x, mu, sigma).reshape(40,1)\n",
    "B[400:440] =  mlab.normpdf(x3, mu3, sigma3).reshape(40,1)\n",
    "B[470:510] = mlab.normpdf(x2, mu2, sigma2).reshape(40,1)\n",
    "B = B.reshape(559)\n"
   ]
  },
  {
   "cell_type": "code",
   "execution_count": 36,
   "metadata": {
    "collapsed": true
   },
   "outputs": [],
   "source": [
    "C = np.zeros((559, 1))\n",
    "C[320:360] = mlab.normpdf(x2, mu2, sigma2).reshape(40,1)\n",
    "C[433:473] = mlab.normpdf(x, mu, sigma).reshape(40,1)\n",
    "C[128:168] = mlab.normpdf(x3, mu3, sigma3).reshape(40,1)\n",
    "C = C.reshape(559)"
   ]
  },
  {
   "cell_type": "code",
   "execution_count": 37,
   "metadata": {
    "collapsed": true
   },
   "outputs": [],
   "source": [
    "spectralmatrix = np.zeros((256, 256, 559))\n",
    "functionalmatrix = np.zeros((256, 256))\n",
    "Amatrix = np.zeros((256, 256))\n",
    "Bmatrix = np.zeros((256, 256))\n",
    "Cmatrix =np.zeros((256, 256))\n",
    "xaxis = spectralmatrix.shape[0]\n",
    "yaxis = spectralmatrix.shape[1]\n"
   ]
  },
  {
   "cell_type": "code",
   "execution_count": 38,
   "metadata": {
    "collapsed": true
   },
   "outputs": [],
   "source": [
    "#generating random coefficients\n",
    "#creating a matrix with a spectrum at each point\n",
    "\n",
    "np.random.seed(122)\n",
    "a=np.random.rand(1)\n",
    "b=np.random.rand(1)\n",
    "c=np.random.rand(1)\n",
    "spatialfrequency = (2*np.pi)/64\n",
    "for x in range(xaxis):\n",
    "    for y in range(yaxis):\n",
    "        a = abs(np.sin(y*spatialfrequency))\n",
    "        b = abs(np.sin(x*spatialfrequency) + np.sin(y*spatialfrequency))\n",
    "        c = np.sin(x*spatialfrequency)**2\n",
    "    #can make a, b, c as a function of x and y with some random noise\n",
    "        spectralmatrix[x,y,:] = a*A + b*B + c*C\n",
    "        functionalmatrix[x][y] = 2*a + b + 9*c\n",
    "        Amatrix[x][y]=a\n",
    "        Bmatrix[x][y]=b\n",
    "        Cmatrix[x][y]=c"
   ]
  },
  {
   "cell_type": "code",
   "execution_count": 39,
   "metadata": {
    "collapsed": false
   },
   "outputs": [],
   "source": [
    "#creating a linear relating between the three matrices\n",
    "pts=256\n",
    "a=Amatrix\n",
    "b=Bmatrix\n",
    "c=Cmatrix\n",
    "B0=0\n",
    "B1=2\n",
    "B2=1\n",
    "B3=9\n",
    "yactual=B0+B1*a+B2*b+B3*c\n",
    "yactual=yactual.reshape(65536,1)"
   ]
  },
  {
   "cell_type": "code",
   "execution_count": 40,
   "metadata": {
    "collapsed": false
   },
   "outputs": [
    {
     "data": {
      "text/plain": [
       "(9, 9)"
      ]
     },
     "execution_count": 40,
     "metadata": {},
     "output_type": "execute_result"
    }
   ],
   "source": [
    "PCA_data=np.load('loadingsmatrix.npy')\n",
    "PCA_data.shape"
   ]
  },
  {
   "cell_type": "code",
   "execution_count": 41,
   "metadata": {
    "collapsed": false
   },
   "outputs": [
    {
     "data": {
      "text/plain": [
       "(65536, 9)"
      ]
     },
     "execution_count": 41,
     "metadata": {},
     "output_type": "execute_result"
    }
   ],
   "source": [
    "projection_matrix=np.load('projectionmatrix.npy')\n",
    "projection_matrix.shape"
   ]
  },
  {
   "cell_type": "code",
   "execution_count": 42,
   "metadata": {
    "collapsed": false
   },
   "outputs": [
    {
     "data": {
      "text/plain": [
       "(65536, 3)"
      ]
     },
     "execution_count": 42,
     "metadata": {},
     "output_type": "execute_result"
    }
   ],
   "source": [
    "x=projection_matrix[:,0:3]\n",
    "x.shape"
   ]
  },
  {
   "cell_type": "code",
   "execution_count": 43,
   "metadata": {
    "collapsed": false
   },
   "outputs": [
    {
     "data": {
      "text/plain": [
       "(array([ 1.34846668,  1.02055162,  0.86992429]), 6.582460988733378)"
      ]
     },
     "execution_count": 43,
     "metadata": {},
     "output_type": "execute_result"
    }
   ],
   "source": [
    "regr=linear_model.LinearRegression()\n",
    "s=regr.fit(x, yactual)\n",
    "s.coef_[0], s.intercept_[0]"
   ]
  },
  {
   "cell_type": "code",
   "execution_count": 44,
   "metadata": {
    "collapsed": false
   },
   "outputs": [
    {
     "data": {
      "text/plain": [
       "(65536, 4)"
      ]
     },
     "execution_count": 44,
     "metadata": {},
     "output_type": "execute_result"
    }
   ],
   "source": [
    "x1=projection_matrix[:,0:4]\n",
    "x1.shape"
   ]
  },
  {
   "cell_type": "code",
   "execution_count": 45,
   "metadata": {
    "collapsed": false
   },
   "outputs": [
    {
     "data": {
      "text/plain": [
       "(array([[  1.34846668e+00,   1.02055162e+00,   8.69924290e-01,\n",
       "           8.74953316e-15]]), array([ 6.58246099]))"
      ]
     },
     "execution_count": 45,
     "metadata": {},
     "output_type": "execute_result"
    }
   ],
   "source": [
    "regr=linear_model.LinearRegression()\n",
    "s=regr.fit(x1, yactual)\n",
    "s.coef_, s.intercept_"
   ]
  },
  {
   "cell_type": "code",
   "execution_count": 46,
   "metadata": {
    "collapsed": false
   },
   "outputs": [
    {
     "data": {
      "text/plain": [
       "(65536, 65536)"
      ]
     },
     "execution_count": 46,
     "metadata": {},
     "output_type": "execute_result"
    }
   ],
   "source": [
    "x1=np.array(x1)\n",
    "yactual=np.array(yactual)\n",
    "x1.size, yactual.size\n",
    "x1.resize(65536)\n",
    "x1.size, yactual.size"
   ]
  },
  {
   "cell_type": "code",
   "execution_count": 47,
   "metadata": {
    "collapsed": false
   },
   "outputs": [
    {
     "data": {
      "image/png": "[encoded data removed]",
      "text/plain": [
       "<matplotlib.figure.Figure at 0x20df8e934e0>"
      ]
     },
     "metadata": {},
     "output_type": "display_data"
    }
   ],
   "source": [
    "plt.scatter(x1,yactual, color='darkorange', lw=1)\n",
    "plt.plot(x1,yactual, color='c', lw=0.5)\n",
    "plt.show()"
   ]
  },
  {
   "cell_type": "markdown",
   "metadata": {},
   "source": [
    "SVR USING A LINEAR KERNEL"
   ]
  },
  {
   "cell_type": "code",
   "execution_count": 48,
   "metadata": {
    "collapsed": true
   },
   "outputs": [],
   "source": [
    "import numpy as np\n",
    "from sklearn.svm import SVR\n",
    "import matplotlib.pyplot as plt"
   ]
  },
  {
   "cell_type": "code",
   "execution_count": 49,
   "metadata": {
    "collapsed": false
   },
   "outputs": [],
   "source": [
    "yactual=np.ravel(yactual)#flattening to a column vector from a 1d array"
   ]
  },
  {
   "cell_type": "code",
   "execution_count": 50,
   "metadata": {
    "collapsed": false
   },
   "outputs": [],
   "source": [
    "svr_lin = SVR(kernel='linear', C=1e3)\n",
    "y_lin = svr_lin.fit(x, yactual).predict(x)"
   ]
  },
  {
   "cell_type": "code",
   "execution_count": 51,
   "metadata": {
    "collapsed": false
   },
   "outputs": [
    {
     "name": "stdout",
     "output_type": "stream",
     "text": [
      "[ 1.32773492  0.9923579   0.84916953]\n"
     ]
    }
   ],
   "source": [
    "y_lin_coef=svr_lin.fit(x, yactual).coef_[0]\n",
    "print(y_lin_coef)"
   ]
  },
  {
   "cell_type": "code",
   "execution_count": 52,
   "metadata": {
    "collapsed": false
   },
   "outputs": [
    {
     "name": "stdout",
     "output_type": "stream",
     "text": [
      "6.58270927936\n"
     ]
    }
   ],
   "source": [
    "y_lin_intercept=svr_lin.fit(x, yactual).intercept_[0]\n",
    "print(y_lin_intercept)"
   ]
  },
  {
   "cell_type": "code",
   "execution_count": 53,
   "metadata": {
    "collapsed": false
   },
   "outputs": [
    {
     "data": {
      "text/plain": [
       "(65536, 65536)"
      ]
     },
     "execution_count": 53,
     "metadata": {},
     "output_type": "execute_result"
    }
   ],
   "source": [
    "x1.size,y_lin.size"
   ]
  },
  {
   "cell_type": "code",
   "execution_count": 54,
   "metadata": {
    "collapsed": false
   },
   "outputs": [
    {
     "data": {
      "image/png": "[encoded data removed]",
      "text/plain": [
       "<matplotlib.figure.Figure at 0x20d806a7128>"
      ]
     },
     "metadata": {},
     "output_type": "display_data"
    }
   ],
   "source": [
    "plt.scatter(x1,yactual, color='darkorange', lw=1, label='data')\n",
    "plt.hold('on')\n",
    "plt.plot(x1, y_lin, color='c', label='linear SVR')\n",
    "plt.xlabel('data')\n",
    "plt.ylabel('target')\n",
    "plt.legend()\n",
    "plt.show()\n",
    "#plt.plot(yactual, color='navy', lw=2)"
   ]
  },
  {
   "cell_type": "markdown",
   "metadata": {
    "collapsed": true
   },
   "source": [
    "FOR 4 PRINCIPAL COMPONENTS"
   ]
  },
  {
   "cell_type": "code",
   "execution_count": 55,
   "metadata": {
    "collapsed": false
   },
   "outputs": [
    {
     "data": {
      "text/plain": [
       "(65536, 4)"
      ]
     },
     "execution_count": 55,
     "metadata": {},
     "output_type": "execute_result"
    }
   ],
   "source": [
    "x1=projection_matrix[:,0:4]\n",
    "x1.shape"
   ]
  },
  {
   "cell_type": "code",
   "execution_count": 56,
   "metadata": {
    "collapsed": false
   },
   "outputs": [
    {
     "data": {
      "text/plain": [
       "(array([  1.34846668e+00,   1.02055162e+00,   8.69924290e-01,\n",
       "          8.74953316e-15]), 6.582460988733378)"
      ]
     },
     "execution_count": 56,
     "metadata": {},
     "output_type": "execute_result"
    }
   ],
   "source": [
    "regr=linear_model.LinearRegression()\n",
    "s=regr.fit(x1, yactual)\n",
    "s.coef_, s.intercept_"
   ]
  },
  {
   "cell_type": "markdown",
   "metadata": {},
   "source": [
    "SVR"
   ]
  },
  {
   "cell_type": "code",
   "execution_count": 57,
   "metadata": {
    "collapsed": true
   },
   "outputs": [],
   "source": [
    "svr_lin = SVR(kernel='linear', C=1e3)\n",
    "y_lin = svr_lin.fit(x1, yactual).predict(x1)"
   ]
  },
  {
   "cell_type": "code",
   "execution_count": 58,
   "metadata": {
    "collapsed": false
   },
   "outputs": [
    {
     "name": "stdout",
     "output_type": "stream",
     "text": [
      "[  1.32773492e+00   9.92357904e-01   8.49169532e-01   1.33523137e-14]\n"
     ]
    }
   ],
   "source": [
    "y_lin_coef=svr_lin.fit(x1, yactual).coef_[0]\n",
    "print(y_lin_coef)"
   ]
  },
  {
   "cell_type": "code",
   "execution_count": 59,
   "metadata": {
    "collapsed": false
   },
   "outputs": [
    {
     "name": "stdout",
     "output_type": "stream",
     "text": [
      "6.58270927936\n"
     ]
    }
   ],
   "source": [
    "y_lin_intercept=svr_lin.fit(x, yactual).intercept_[0]\n",
    "print(y_lin_intercept)"
   ]
  },
  {
   "cell_type": "code",
   "execution_count": 60,
   "metadata": {
    "collapsed": false
   },
   "outputs": [
    {
     "data": {
      "text/plain": [
       "(65536, 65536)"
      ]
     },
     "execution_count": 60,
     "metadata": {},
     "output_type": "execute_result"
    }
   ],
   "source": [
    "x1=np.array(x1)\n",
    "yactual=np.array(yactual)\n",
    "x1.resize(65536)\n",
    "x1.size, yactual.size"
   ]
  },
  {
   "cell_type": "code",
   "execution_count": 61,
   "metadata": {
    "collapsed": false
   },
   "outputs": [
    {
     "data": {
      "image/png": "[encoded data removed]",
      "text/plain": [
       "<matplotlib.figure.Figure at 0x20d80b64908>"
      ]
     },
     "metadata": {},
     "output_type": "display_data"
    }
   ],
   "source": [
    "plt.scatter(x1,yactual, color='darkorange', lw=1, label='data')\n",
    "plt.hold('on')\n",
    "plt.plot(x1, y_lin, color='c', label='linear SVR')\n",
    "plt.xlabel('data')\n",
    "plt.ylabel('target')\n",
    "plt.legend()\n",
    "plt.show()\n",
    "#plt.plot(yactual, color='navy', lw=2)"
   ]
  },
  {
   "cell_type": "markdown",
   "metadata": {},
   "source": [
    "FOR 9 PRINCIPAL COMPONENTS"
   ]
  },
  {
   "cell_type": "code",
   "execution_count": 62,
   "metadata": {
    "collapsed": false
   },
   "outputs": [
    {
     "data": {
      "text/plain": [
       "(65536, 9)"
      ]
     },
     "execution_count": 62,
     "metadata": {},
     "output_type": "execute_result"
    }
   ],
   "source": [
    "x2=projection_matrix\n",
    "x2.shape"
   ]
  },
  {
   "cell_type": "code",
   "execution_count": 63,
   "metadata": {
    "collapsed": false
   },
   "outputs": [
    {
     "data": {
      "text/plain": [
       "(array([  1.34846668e+00,   1.02055162e+00,   8.69924290e-01,\n",
       "          8.63140358e-15,   1.57383904e-15,   1.38089864e-15,\n",
       "          2.46607085e-16,   2.65726459e-16,   2.61741084e-17]),\n",
       " 6.582460988733378)"
      ]
     },
     "execution_count": 63,
     "metadata": {},
     "output_type": "execute_result"
    }
   ],
   "source": [
    "regr=linear_model.LinearRegression()\n",
    "s=regr.fit(x2, yactual)\n",
    "s.coef_, s.intercept_"
   ]
  },
  {
   "cell_type": "markdown",
   "metadata": {},
   "source": [
    "SVR"
   ]
  },
  {
   "cell_type": "code",
   "execution_count": 64,
   "metadata": {
    "collapsed": false
   },
   "outputs": [],
   "source": [
    "svr_lin = SVR(kernel='linear', C=1e3)\n",
    "y_lin = svr_lin.fit(x2, yactual).predict(x2)"
   ]
  },
  {
   "cell_type": "code",
   "execution_count": 65,
   "metadata": {
    "collapsed": false
   },
   "outputs": [
    {
     "name": "stdout",
     "output_type": "stream",
     "text": [
      "[  1.32773492e+00   9.92357904e-01   8.49169532e-01   1.33523137e-14\n",
      "  -1.48882533e-15   1.68014502e-15  -1.52267529e-16   1.77258582e-16\n",
      "   6.73212163e-17]\n"
     ]
    }
   ],
   "source": [
    "y_lin_coef=svr_lin.fit(x2, yactual).coef_[0]\n",
    "print(y_lin_coef)"
   ]
  },
  {
   "cell_type": "code",
   "execution_count": 66,
   "metadata": {
    "collapsed": false
   },
   "outputs": [
    {
     "name": "stdout",
     "output_type": "stream",
     "text": [
      "6.58270927936\n"
     ]
    }
   ],
   "source": [
    "y_lin_intercept=svr_lin.fit(x, yactual).intercept_[0]\n",
    "print(y_lin_intercept)"
   ]
  },
  {
   "cell_type": "code",
   "execution_count": 88,
   "metadata": {
    "collapsed": false
   },
   "outputs": [
    {
     "data": {
      "text/plain": [
       "array([  1.32773492e+00,   9.92357904e-01,   8.49169532e-01,\n",
       "         1.33523137e-14,  -1.48882533e-15,   1.68014502e-15,\n",
       "        -1.52267529e-16,   1.77258582e-16,   6.73212163e-17])"
      ]
     },
     "execution_count": 88,
     "metadata": {},
     "output_type": "execute_result"
    }
   ],
   "source": [
    "m=y_lin_coef\n",
    "m"
   ]
  },
  {
   "cell_type": "code",
   "execution_count": 72,
   "metadata": {
    "collapsed": false
   },
   "outputs": [],
   "source": [
    "n=np.arange(1,10)"
   ]
  },
  {
   "cell_type": "code",
   "execution_count": 90,
   "metadata": {
    "collapsed": false
   },
   "outputs": [
    {
     "data": {
      "text/plain": [
       "array([  1.34846668e+00,   1.02055162e+00,   8.69924290e-01,\n",
       "         8.63140358e-15,   1.57383904e-15,   1.38089864e-15,\n",
       "         2.46607085e-16,   2.65726459e-16,   2.61741084e-17])"
      ]
     },
     "execution_count": 90,
     "metadata": {},
     "output_type": "execute_result"
    }
   ],
   "source": [
    "l=s.coef_\n",
    "l"
   ]
  },
  {
   "cell_type": "code",
   "execution_count": 89,
   "metadata": {
    "collapsed": false
   },
   "outputs": [
    {
     "data": {
      "image/png": "[encoded data removed]",
      "text/plain": [
       "<matplotlib.figure.Figure at 0x20d8053f0b8>"
      ]
     },
     "metadata": {},
     "output_type": "display_data"
    }
   ],
   "source": [
    "plt.plot(n,m, 'k--',color= 'k', lw=0.2)\n",
    "plt.scatter(n,m, color='m', marker='s', label='svr',lw=3)\n",
    "plt.hold('on')\n",
    "plt.plot(n, l, 'k--', color='k', lw=0.2)\n",
    "plt.scatter(n, l, color='c', marker='o', label='linear', lw=0.09)\n",
    "plt.title('Regression onto Principal Components')\n",
    "plt.xlabel('PC index')\n",
    "plt.ylabel('weight')\n",
    "plt.legend()\n",
    "ax = plt.gca()\n",
    "plt.legend(bbox_to_anchor=(1.0, 1.0), bbox_transform=ax.transAxes)\n",
    "plt.grid()\n",
    "plt.show()"
   ]
  },
  {
   "cell_type": "code",
   "execution_count": null,
   "metadata": {
    "collapsed": true
   },
   "outputs": [],
   "source": []
  }
 ],
 "metadata": {
  "anaconda-cloud": {},
  "kernelspec": {
   "display_name": "Python [conda root]",
   "language": "python",
   "name": "conda-root-py"
  },
  "language_info": {
   "codemirror_mode": {
    "name": "ipython",
    "version": 3
   },
   "file_extension": ".py",
   "mimetype": "text/x-python",
   "name": "python",
   "nbconvert_exporter": "python",
   "pygments_lexer": "ipython3",
   "version": "3.5.2"
  }
 },
 "nbformat": 4,
 "nbformat_minor": 2
}
