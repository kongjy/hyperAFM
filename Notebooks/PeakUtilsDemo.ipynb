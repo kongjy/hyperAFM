{
 "cells": [
  {
   "cell_type": "markdown",
   "metadata": {},
   "source": [
    "Peakutils works pretty well for peak finding. Found by reading: https://blog.ytotech.com/2015/11/01/findpeaks-in-python/\n",
    "\n",
    "When comparing with graph in Igor, the function accurately finds the maximum point. \n",
    "\n",
    "Do not smooth spectra; this was tested and gave peaks that were off. "
   ]
  },
  {
   "cell_type": "code",
   "execution_count": 74,
   "metadata": {
    "collapsed": true
   },
   "outputs": [],
   "source": [
    "import numpy as np\n",
    "import matplotlib.pyplot as plt\n",
    "from scipy import signal as sps\n",
    "import peakutils\n",
    "from peakutils import plot \n",
    "%matplotlib inline"
   ]
  },
  {
   "cell_type": "code",
   "execution_count": 16,
   "metadata": {
    "collapsed": false
   },
   "outputs": [],
   "source": [
    "spectrum=np.genfromtxt('../Data/PointSpectra/Spectrum1.txt', delimiter=\"\", skip_header=1)"
   ]
  },
  {
   "cell_type": "code",
   "execution_count": 91,
   "metadata": {
    "collapsed": false
   },
   "outputs": [],
   "source": [
    "#threshold=minimum peak intensity required to count as a peak\n",
    "#min_distance=should put experimental wavenumber spacing. \n",
    "peakindices = peakutils.indexes(spectrum[:,1], thres=0.10, min_dist=1)"
   ]
  },
  {
   "cell_type": "code",
   "execution_count": 92,
   "metadata": {
    "collapsed": false
   },
   "outputs": [
    {
     "data": {
      "image/png": "[encoded data removed]",
      "text/plain": [
       "<matplotlib.figure.Figure at 0x1116f9890>"
      ]
     },
     "metadata": {},
     "output_type": "display_data"
    }
   ],
   "source": [
    " peakutils.plot.plot(spectrum[:,0],spectrum[:,1], peakindices)"
   ]
  },
  {
   "cell_type": "code",
   "execution_count": 46,
   "metadata": {
    "collapsed": false
   },
   "outputs": [],
   "source": [
    "peaksdict={}\n",
    "for index in indexes:\n",
    "    peaksdict[spectrum[index][0]] = spectrum[index][1]"
   ]
  },
  {
   "cell_type": "markdown",
   "metadata": {},
   "source": [
    "### Stuff that did not work very well"
   ]
  },
  {
   "cell_type": "code",
   "execution_count": 57,
   "metadata": {
    "collapsed": true
   },
   "outputs": [],
   "source": [
    "def SavGolSmooth(self):\n",
    "    wavenumbers = self[:,0]\n",
    "    intensity = self[:,1]\n",
    "    smooth = sps.savgol_filter(intensity, 5, 1, deriv=1, delta=10)\n",
    "    return smooth"
   ]
  },
  {
   "cell_type": "code",
   "execution_count": 71,
   "metadata": {
    "collapsed": true
   },
   "outputs": [],
   "source": [
    "smoothed = SavGolSmooth(spectrum)\n",
    "smoothedindexes = peakutils.indexes(smoothed, thres=0.00008, min_dist=5)\n",
    "smoothedpeaksdict={}\n",
    "for index in smoothedindexes:\n",
    "    smoothedpeaksdict[spectrum[index][0]] = spectrum[index][1]"
   ]
  },
  {
   "cell_type": "code",
   "execution_count": 73,
   "metadata": {
    "collapsed": false
   },
   "outputs": [
    {
     "data": {
      "text/plain": [
       "{790.0: 5.8945821365341497e-05,\n",
       " 835.0: 0.00010039583867183,\n",
       " 905.0: 1.3629706700157801e-05,\n",
       " 935.0: 1.19553560580243e-05,\n",
       " 985.0: 9.5319701358675997e-05,\n",
       " 1080.0: 0.00017045981076080401,\n",
       " 1150.0: 2.7686472094501399e-05,\n",
       " 1220.0: 6.4694845605117701e-06,\n",
       " 1265.0: 5.1602120947791297e-05,\n",
       " 1315.0: 7.5909054430667297e-05,\n",
       " 1350.0: 0.00032814702717587401,\n",
       " 1395.0: 0.00044489515130408097,\n",
       " 1435.0: 0.00027184179634787099,\n",
       " 1515.0: 0.00019287518807686901,\n",
       " 1555.0: 0.000199853398953564,\n",
       " 1610.0: 6.7524691985454397e-05,\n",
       " 1655.0: 8.2995567936450202e-05,\n",
       " 1705.0: 0.00017717345326673199,\n",
       " 1760.0: 0.000211890961509198,\n",
       " 1825.0: 0.00015017442638054501}"
      ]
     },
     "execution_count": 73,
     "metadata": {},
     "output_type": "execute_result"
    }
   ],
   "source": [
    "smoothedpeaksdict\n",
    "#not sure if im indexing incorrectly"
   ]
  },
  {
   "cell_type": "code",
   "execution_count": null,
   "metadata": {
    "collapsed": true
   },
   "outputs": [],
   "source": []
  }
 ],
 "metadata": {
  "kernelspec": {
   "display_name": "Python 2",
   "language": "python",
   "name": "python2"
  },
  "language_info": {
   "codemirror_mode": {
    "name": "ipython",
    "version": 2
   },
   "file_extension": ".py",
   "mimetype": "text/x-python",
   "name": "python",
   "nbconvert_exporter": "python",
   "pygments_lexer": "ipython2",
   "version": "2.7.13"
  }
 },
 "nbformat": 4,
 "nbformat_minor": 2
}
