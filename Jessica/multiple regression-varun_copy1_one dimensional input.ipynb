{
 "cells": [
  {
   "cell_type": "code",
   "execution_count": 66,
   "metadata": {
    "collapsed": true
   },
   "outputs": [],
   "source": [
    "import matplotlib.pyplot as plt\n",
    "import numpy as np"
   ]
  },
  {
   "cell_type": "code",
   "execution_count": 67,
   "metadata": {
    "collapsed": true
   },
   "outputs": [],
   "source": [
    "import matplotlib.pyplot as plt\n",
    "import numpy as np\n",
    "import matplotlib.mlab as mlab\n",
    "import math"
   ]
  },
  {
   "cell_type": "code",
   "execution_count": 68,
   "metadata": {
    "collapsed": true
   },
   "outputs": [],
   "source": [
    "mu = 0\n",
    "mu2 = 0.5\n",
    "mu3 = 0.75"
   ]
  },
  {
   "cell_type": "code",
   "execution_count": 69,
   "metadata": {
    "collapsed": true
   },
   "outputs": [],
   "source": [
    "variance = 0.5\n",
    "variance2 = 1\n",
    "variance3 = 1.5"
   ]
  },
  {
   "cell_type": "code",
   "execution_count": 70,
   "metadata": {
    "collapsed": true
   },
   "outputs": [],
   "source": [
    "sigma = math.sqrt(variance)\n",
    "sigma2 = math.sqrt(variance2)\n",
    "sigma3 = math.sqrt(variance3)"
   ]
  },
  {
   "cell_type": "code",
   "execution_count": 71,
   "metadata": {
    "collapsed": true
   },
   "outputs": [],
   "source": [
    "x = np.linspace(mu-3*variance,mu+3*variance, 40)\n",
    "x2 = np.linspace(mu2-3*variance2, mu+3*variance2, 40)\n",
    "x3 = np.linspace(mu2-3*variance3, mu+3*variance3, 40)"
   ]
  },
  {
   "cell_type": "code",
   "execution_count": 72,
   "metadata": {
    "collapsed": true
   },
   "outputs": [],
   "source": [
    "A = np.zeros((559,1))\n",
    "A[20:60] = mlab.normpdf(x, mu, sigma).reshape(40,1)\n",
    "A[230:270] = mlab.normpdf(x2, mu2, sigma2).reshape(40,1)\n",
    "A[420:460] = mlab.normpdf(x3, mu3, sigma3).reshape(40,1)\n",
    "A = A.reshape(559)"
   ]
  },
  {
   "cell_type": "code",
   "execution_count": 73,
   "metadata": {
    "collapsed": true
   },
   "outputs": [],
   "source": [
    "B = np.zeros((559,1))\n",
    "B[23:63] = mlab.normpdf(x, mu, sigma).reshape(40,1)\n",
    "B[400:440] =  mlab.normpdf(x3, mu3, sigma3).reshape(40,1)\n",
    "B[470:510] = mlab.normpdf(x2, mu2, sigma2).reshape(40,1)\n",
    "B = B.reshape(559)\n"
   ]
  },
  {
   "cell_type": "code",
   "execution_count": 74,
   "metadata": {
    "collapsed": false
   },
   "outputs": [],
   "source": [
    "C = np.zeros((559, 1))\n",
    "C[320:360] = mlab.normpdf(x2, mu2, sigma2).reshape(40,1)\n",
    "C[433:473] = mlab.normpdf(x, mu, sigma).reshape(40,1)\n",
    "C[128:168] = mlab.normpdf(x3, mu3, sigma3).reshape(40,1)\n",
    "C = C.reshape(559)"
   ]
  },
  {
   "cell_type": "code",
   "execution_count": 75,
   "metadata": {
    "collapsed": true
   },
   "outputs": [],
   "source": [
    "spectralmatrix = np.zeros((256, 256, 559))\n",
    "functionalmatrix = np.zeros((256, 256))\n",
    "Amatrix = np.zeros((256, 256))\n",
    "Bmatrix = np.zeros((256, 256))\n",
    "Cmatrix =np.zeros((256, 256))\n",
    "xaxis = spectralmatrix.shape[0]\n",
    "yaxis = spectralmatrix.shape[1]"
   ]
  },
  {
   "cell_type": "code",
   "execution_count": 76,
   "metadata": {
    "collapsed": false
   },
   "outputs": [],
   "source": [
    "np.random.seed(122)\n",
    "a=np.random.rand(1)\n",
    "b=np.random.rand(1)\n",
    "c=np.random.rand(1)\n",
    "spatialfrequency = (2*np.pi)/64\n",
    "for x in range(xaxis):\n",
    "    for y in range(yaxis):\n",
    "        a = abs(np.sin(y*spatialfrequency))\n",
    "        b = abs(np.sin(x*spatialfrequency) + np.sin(y*spatialfrequency))\n",
    "        c = np.sin(x*spatialfrequency)**2\n",
    "    #can make a, b, c as a function of x and y with some random noise\n",
    "        spectralmatrix[x,y,:] = a*A + b*B + c*C\n",
    "        functionalmatrix[x][y] = 2*a + b + 9*c\n",
    "        Amatrix[x][y]=a\n",
    "        Bmatrix[x][y] = b\n",
    "        Cmatrix[x][y] = c\n",
    "        "
   ]
  },
  {
   "cell_type": "code",
   "execution_count": 77,
   "metadata": {
    "collapsed": false
   },
   "outputs": [
    {
     "data": {
      "text/plain": [
       "(256, 256)"
      ]
     },
     "execution_count": 77,
     "metadata": {},
     "output_type": "execute_result"
    }
   ],
   "source": [
    "#spectralmatrix[1,2,:]\n",
    "functionalmatrix.shape"
   ]
  },
  {
   "cell_type": "code",
   "execution_count": 78,
   "metadata": {
    "collapsed": false
   },
   "outputs": [
    {
     "data": {
      "text/plain": [
       "(256, 256)"
      ]
     },
     "execution_count": 78,
     "metadata": {},
     "output_type": "execute_result"
    }
   ],
   "source": [
    "functionalmatrix.shape"
   ]
  },
  {
   "cell_type": "code",
   "execution_count": 79,
   "metadata": {
    "collapsed": false
   },
   "outputs": [
    {
     "data": {
      "text/plain": [
       "65536"
      ]
     },
     "execution_count": 79,
     "metadata": {},
     "output_type": "execute_result"
    }
   ],
   "source": [
    "256*256"
   ]
  },
  {
   "cell_type": "code",
   "execution_count": 80,
   "metadata": {
    "collapsed": false
   },
   "outputs": [],
   "source": [
    "#LinearRegression\n",
    "#model: Y = 2a+b+9c\n",
    "\n",
    "pts=256\n",
    "#a=Amatrix\n",
    "#b=Bmatrix\n",
    "#c=Cmatrix\n",
    "B0=0\n",
    "B1=2\n",
    "B2=1\n",
    "B3=9\n",
    "yactual=B0+B1*a+B2*b+B3*c\n",
    "np.random.seed(123)\n",
    "#add noise scaled to 25% of range to data\n",
    "yrand=yactual+.25*(yactual.max()-yactual.min())*np.random.normal(size=pts)"
   ]
  },
  {
   "cell_type": "code",
   "execution_count": 81,
   "metadata": {
    "collapsed": false
   },
   "outputs": [
    {
     "data": {
      "text/plain": [
       "(256, 256)"
      ]
     },
     "execution_count": 81,
     "metadata": {},
     "output_type": "execute_result"
    }
   ],
   "source": [
    "Amatrix.shape"
   ]
  },
  {
   "cell_type": "code",
   "execution_count": 82,
   "metadata": {
    "collapsed": false
   },
   "outputs": [
    {
     "data": {
      "text/plain": [
       "(256,)"
      ]
     },
     "execution_count": 82,
     "metadata": {},
     "output_type": "execute_result"
    }
   ],
   "source": [
    "yrand.shape"
   ]
  },
  {
   "cell_type": "code",
   "execution_count": 83,
   "metadata": {
    "collapsed": false
   },
   "outputs": [
    {
     "data": {
      "text/plain": [
       "(256, 256)"
      ]
     },
     "execution_count": 83,
     "metadata": {},
     "output_type": "execute_result"
    }
   ],
   "source": [
    "Bmatrix.shape"
   ]
  },
  {
   "cell_type": "code",
   "execution_count": 84,
   "metadata": {
    "collapsed": false
   },
   "outputs": [],
   "source": [
    "yactual1=np.array(yactual)\n",
    "#yrand1=np.array(yrand)\n",
    "#yrand1.shape"
   ]
  },
  {
   "cell_type": "code",
   "execution_count": 88,
   "metadata": {
    "collapsed": false
   },
   "outputs": [
    {
     "data": {
      "text/plain": [
       "LinearRegression(copy_X=True, fit_intercept=True, n_jobs=1, normalize=False)"
      ]
     },
     "execution_count": 88,
     "metadata": {},
     "output_type": "execute_result"
    }
   ],
   "source": [
    "from sklearn import linear_model\n",
    "regr=linear_model.LinearRegression()#performing the simple linear regression\n",
    "regr.fit([[a,b,c]],yrand1.reshape(1, len(yrand1)))#single dimension to the fit function, could just plot one point "
   ]
  },
  {
   "cell_type": "code",
   "execution_count": 89,
   "metadata": {
    "collapsed": false
   },
   "outputs": [],
   "source": [
    "#plt.plot(c,yactual1,color='red',lw='1')\n",
    "#plt.scatter(c,yrand1,color='c', marker='^', alpha=0.01)\n",
    "#plt.xlabel('peak locations')\n",
    "#plt.ylabel('y values')\n",
    "#plt.show()"
   ]
  },
  {
   "cell_type": "code",
   "execution_count": 90,
   "metadata": {
    "collapsed": false
   },
   "outputs": [
    {
     "data": {
      "image/png": "[encoded data removed]",
      "text/plain": [
       "<matplotlib.figure.Figure at 0x211a18bb7f0>"
      ]
     },
     "metadata": {},
     "output_type": "display_data"
    }
   ],
   "source": [
    "pred=regr.predict([[a,b,c]])\n",
    "plt.scatter(yrand1,pred) \n",
    "plt.show()"
   ]
  },
  {
   "cell_type": "markdown",
   "metadata": {
    "collapsed": true
   },
   "source": [
    "Took a, b, c as a single value, one dimension input  to the fit function, could just plot one point, not much of use though!"
   ]
  },
  {
   "cell_type": "code",
   "execution_count": null,
   "metadata": {
    "collapsed": true
   },
   "outputs": [],
   "source": []
  }
 ],
 "metadata": {
  "anaconda-cloud": {},
  "kernelspec": {
   "display_name": "Python [conda root]",
   "language": "python",
   "name": "conda-root-py"
  },
  "language_info": {
   "codemirror_mode": {
    "name": "ipython",
    "version": 3
   },
   "file_extension": ".py",
   "mimetype": "text/x-python",
   "name": "python",
   "nbconvert_exporter": "python",
   "pygments_lexer": "ipython3",
   "version": "3.5.2"
  }
 },
 "nbformat": 4,
 "nbformat_minor": 2
}
