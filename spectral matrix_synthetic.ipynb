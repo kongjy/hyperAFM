{
 "cells": [
  {
   "cell_type": "code",
   "execution_count": 1,
   "metadata": {
    "collapsed": true
   },
   "outputs": [],
   "source": [
    "import numpy as np\n",
    "import math\n",
    "import matplotlib.mlab as mlab\n",
    "import matplotlib.pyplot as plt"
   ]
  },
  {
   "cell_type": "code",
   "execution_count": 2,
   "metadata": {
    "collapsed": true
   },
   "outputs": [],
   "source": [
    "import numpy as np\n",
    "import matplotlib.pyplot as plt\n",
    "from scipy import signal as sps\n",
    "import peakutils\n",
    "from peakutils import plot \n",
    "%matplotlib inline"
   ]
  },
  {
   "cell_type": "code",
   "execution_count": 3,
   "metadata": {
    "collapsed": true
   },
   "outputs": [],
   "source": [
    "mu = 0\n",
    "mu2 = 0.5\n",
    "mu3 = 0.75"
   ]
  },
  {
   "cell_type": "code",
   "execution_count": 4,
   "metadata": {
    "collapsed": true
   },
   "outputs": [],
   "source": [
    "variance = 0.5\n",
    "variance2 = 1\n",
    "variance3 = 1"
   ]
  },
  {
   "cell_type": "code",
   "execution_count": 5,
   "metadata": {
    "collapsed": true
   },
   "outputs": [],
   "source": [
    "sigma = math.sqrt(variance)\n",
    "sigma2 = math.sqrt(variance2)\n",
    "sigma3 = math.sqrt(variance3)"
   ]
  },
  {
   "cell_type": "code",
   "execution_count": 6,
   "metadata": {
    "collapsed": false
   },
   "outputs": [
    {
     "data": {
      "text/plain": [
       "array([-1.5       , -1.42307692, -1.34615385, -1.26923077, -1.19230769,\n",
       "       -1.11538462, -1.03846154, -0.96153846, -0.88461538, -0.80769231,\n",
       "       -0.73076923, -0.65384615, -0.57692308, -0.5       , -0.42307692,\n",
       "       -0.34615385, -0.26923077, -0.19230769, -0.11538462, -0.03846154,\n",
       "        0.03846154,  0.11538462,  0.19230769,  0.26923077,  0.34615385,\n",
       "        0.42307692,  0.5       ,  0.57692308,  0.65384615,  0.73076923,\n",
       "        0.80769231,  0.88461538,  0.96153846,  1.03846154,  1.11538462,\n",
       "        1.19230769,  1.26923077,  1.34615385,  1.42307692,  1.5       ])"
      ]
     },
     "execution_count": 6,
     "metadata": {},
     "output_type": "execute_result"
    }
   ],
   "source": [
    "x = np.linspace(mu-3*variance,mu+3*variance, 40)\n",
    "x2 = np.linspace(mu2-3*variance2, mu+3*variance2, 40)\n",
    "x3 = np.linspace(mu2-3*variance3, mu+3*variance3, 40)\n",
    "x"
   ]
  },
  {
   "cell_type": "code",
   "execution_count": 7,
   "metadata": {
    "collapsed": false
   },
   "outputs": [
    {
     "data": {
      "text/plain": [
       "array([ 0.        ,  0.        ,  0.        ,  0.        ,  0.        ,\n",
       "        0.        ,  0.        ,  0.        ,  0.        ,  0.        ,\n",
       "        0.        ,  0.        ,  0.        ,  0.        ,  0.        ,\n",
       "        0.        ,  0.        ,  0.        ,  0.        ,  0.        ,\n",
       "        0.05946514,  0.07445854,  0.09213549,  0.11266779,  0.13615483,\n",
       "        0.16260232,  0.1919026 ,  0.2238182 ,  0.25797069,  0.29383649,\n",
       "        0.33075128,  0.36792369,  0.40445889,  0.43939129,  0.47172503,\n",
       "        0.50048011,  0.52474117,  0.54370569,  0.55672796,  0.5633556 ,\n",
       "        0.5633556 ,  0.55672796,  0.54370569,  0.52474117,  0.50048011,\n",
       "        0.47172503,  0.43939129,  0.40445889,  0.36792369,  0.33075128,\n",
       "        0.29383649,  0.25797069,  0.2238182 ,  0.1919026 ,  0.16260232,\n",
       "        0.13615483,  0.11266779,  0.09213549,  0.07445854,  0.05946514,\n",
       "        0.        ,  0.        ,  0.        ,  0.        ,  0.        ,\n",
       "        0.        ,  0.        ,  0.        ,  0.        ,  0.        ,\n",
       "        0.        ,  0.        ,  0.        ,  0.        ,  0.        ,\n",
       "        0.        ,  0.        ,  0.        ,  0.        ,  0.        ,\n",
       "        0.        ,  0.        ,  0.        ,  0.        ,  0.        ,\n",
       "        0.        ,  0.        ,  0.        ,  0.        ,  0.        ,\n",
       "        0.        ,  0.        ,  0.        ,  0.        ,  0.        ,\n",
       "        0.        ,  0.        ,  0.        ,  0.        ,  0.        ,\n",
       "        0.        ,  0.        ,  0.        ,  0.        ,  0.        ,\n",
       "        0.        ,  0.        ,  0.        ,  0.        ,  0.        ,\n",
       "        0.        ,  0.        ,  0.        ,  0.        ,  0.        ,\n",
       "        0.        ,  0.        ,  0.        ,  0.        ,  0.        ,\n",
       "        0.        ,  0.        ,  0.        ,  0.        ,  0.        ,\n",
       "        0.        ,  0.        ,  0.        ,  0.        ,  0.        ,\n",
       "        0.        ,  0.        ,  0.        ,  0.        ,  0.        ,\n",
       "        0.        ,  0.        ,  0.        ,  0.        ,  0.        ,\n",
       "        0.        ,  0.        ,  0.        ,  0.        ,  0.        ,\n",
       "        0.        ,  0.        ,  0.        ,  0.        ,  0.        ,\n",
       "        0.        ,  0.        ,  0.        ,  0.        ,  0.        ,\n",
       "        0.        ,  0.        ,  0.        ,  0.        ,  0.        ,\n",
       "        0.        ,  0.        ,  0.        ,  0.        ,  0.        ,\n",
       "        0.        ,  0.        ,  0.        ,  0.        ,  0.        ,\n",
       "        0.        ,  0.        ,  0.        ,  0.        ,  0.        ,\n",
       "        0.        ,  0.        ,  0.        ,  0.        ,  0.        ,\n",
       "        0.        ,  0.        ,  0.        ,  0.        ,  0.        ,\n",
       "        0.        ,  0.        ,  0.        ,  0.        ,  0.        ,\n",
       "        0.        ,  0.        ,  0.        ,  0.        ,  0.        ,\n",
       "        0.        ,  0.        ,  0.        ,  0.        ,  0.        ,\n",
       "        0.        ,  0.        ,  0.        ,  0.        ,  0.        ,\n",
       "        0.        ,  0.        ,  0.        ,  0.        ,  0.        ,\n",
       "        0.        ,  0.        ,  0.        ,  0.        ,  0.        ,\n",
       "        0.        ,  0.        ,  0.        ,  0.        ,  0.        ,\n",
       "        0.        ,  0.        ,  0.        ,  0.        ,  0.        ,\n",
       "        0.        ,  0.        ,  0.        ,  0.        ,  0.        ,\n",
       "        0.00443185,  0.00669894,  0.00992636,  0.01441905,  0.0205327 ,\n",
       "        0.02866275,  0.03922405,  0.05261986,  0.06920054,  0.0892138 ,\n",
       "        0.11275016,  0.13968989,  0.16965843,  0.20199869,  0.2357677 ,\n",
       "        0.26976321,  0.30258248,  0.33271125,  0.35863597,  0.37896828,\n",
       "        0.39256767,  0.39864731,  0.39684947,  0.38728032,  0.37049956,\n",
       "        0.34746624,  0.31944801,  0.28790579,  0.25436847,  0.22031233,\n",
       "        0.18705829,  0.15569612,  0.12704023,  0.10161724,  0.07968126,\n",
       "        0.06125021,  0.04615531,  0.0340956 ,  0.02469095,  0.0175283 ,\n",
       "        0.        ,  0.        ,  0.        ,  0.        ,  0.        ,\n",
       "        0.        ,  0.        ,  0.        ,  0.        ,  0.        ,\n",
       "        0.        ,  0.        ,  0.        ,  0.        ,  0.        ,\n",
       "        0.        ,  0.        ,  0.        ,  0.        ,  0.        ,\n",
       "        0.        ,  0.        ,  0.        ,  0.        ,  0.        ,\n",
       "        0.        ,  0.        ,  0.        ,  0.        ,  0.        ,\n",
       "        0.        ,  0.        ,  0.        ,  0.        ,  0.        ,\n",
       "        0.        ,  0.        ,  0.        ,  0.        ,  0.        ,\n",
       "        0.        ,  0.        ,  0.        ,  0.        ,  0.        ,\n",
       "        0.        ,  0.        ,  0.        ,  0.        ,  0.        ,\n",
       "        0.        ,  0.        ,  0.        ,  0.        ,  0.        ,\n",
       "        0.        ,  0.        ,  0.        ,  0.        ,  0.        ,\n",
       "        0.        ,  0.        ,  0.        ,  0.        ,  0.        ,\n",
       "        0.        ,  0.        ,  0.        ,  0.        ,  0.        ,\n",
       "        0.        ,  0.        ,  0.        ,  0.        ,  0.        ,\n",
       "        0.        ,  0.        ,  0.        ,  0.        ,  0.        ,\n",
       "        0.        ,  0.        ,  0.        ,  0.        ,  0.        ,\n",
       "        0.        ,  0.        ,  0.        ,  0.        ,  0.        ,\n",
       "        0.        ,  0.        ,  0.        ,  0.        ,  0.        ,\n",
       "        0.        ,  0.        ,  0.        ,  0.        ,  0.        ,\n",
       "        0.        ,  0.        ,  0.        ,  0.        ,  0.        ,\n",
       "        0.        ,  0.        ,  0.        ,  0.        ,  0.        ,\n",
       "        0.        ,  0.        ,  0.        ,  0.        ,  0.        ,\n",
       "        0.        ,  0.        ,  0.        ,  0.        ,  0.        ,\n",
       "        0.        ,  0.        ,  0.        ,  0.        ,  0.        ,\n",
       "        0.        ,  0.        ,  0.        ,  0.        ,  0.        ,\n",
       "        0.        ,  0.        ,  0.        ,  0.        ,  0.        ,\n",
       "        0.        ,  0.        ,  0.        ,  0.        ,  0.        ,\n",
       "        0.        ,  0.        ,  0.        ,  0.        ,  0.        ,\n",
       "        0.        ,  0.        ,  0.        ,  0.        ,  0.        ,\n",
       "        0.00202905,  0.00317706,  0.00487664,  0.00733802,  0.01082431,\n",
       "        0.0156525 ,  0.0221886 ,  0.03083463,  0.0420059 ,  0.05609762,\n",
       "        0.07344145,  0.0942542 ,  0.11858311,  0.14625395,  0.17682963,\n",
       "        0.20958737,  0.2435218 ,  0.27737877,  0.30972142,  0.33902515,\n",
       "        0.36379376,  0.38268482,  0.39462979,  0.39893408,  0.39534393,\n",
       "        0.38407113,  0.36577237,  0.3414859 ,  0.31253403,  0.28040419,\n",
       "        0.24662343,  0.21264091,  0.17973057,  0.14892231,  0.12096513,\n",
       "        0.09632151,  0.07518809,  0.0575357 ,  0.0431607 ,  0.03173965,\n",
       "        0.        ,  0.        ,  0.        ,  0.        ,  0.        ,\n",
       "        0.        ,  0.        ,  0.        ,  0.        ,  0.        ,\n",
       "        0.        ,  0.        ,  0.        ,  0.        ,  0.        ,\n",
       "        0.        ,  0.        ,  0.        ,  0.        ,  0.        ,\n",
       "        0.        ,  0.        ,  0.        ,  0.        ,  0.        ,\n",
       "        0.        ,  0.        ,  0.        ,  0.        ,  0.        ,\n",
       "        0.        ,  0.        ,  0.        ,  0.        ,  0.        ,\n",
       "        0.        ,  0.        ,  0.        ,  0.        ,  0.        ,\n",
       "        0.        ,  0.        ,  0.        ,  0.        ,  0.        ,\n",
       "        0.        ,  0.        ,  0.        ,  0.        ,  0.        ,\n",
       "        0.        ,  0.        ,  0.        ,  0.        ,  0.        ,\n",
       "        0.        ,  0.        ,  0.        ,  0.        ,  0.        ,\n",
       "        0.        ,  0.        ,  0.        ,  0.        ,  0.        ,\n",
       "        0.        ,  0.        ,  0.        ,  0.        ,  0.        ,\n",
       "        0.        ,  0.        ,  0.        ,  0.        ,  0.        ,\n",
       "        0.        ,  0.        ,  0.        ,  0.        ,  0.        ,\n",
       "        0.        ,  0.        ,  0.        ,  0.        ,  0.        ,\n",
       "        0.        ,  0.        ,  0.        ,  0.        ,  0.        ,\n",
       "        0.        ,  0.        ,  0.        ,  0.        ,  0.        ,\n",
       "        0.        ,  0.        ,  0.        ,  0.        ])"
      ]
     },
     "execution_count": 7,
     "metadata": {},
     "output_type": "execute_result"
    }
   ],
   "source": [
    "A = np.zeros((559,1))\n",
    "A[20:60] = mlab.normpdf(x, mu, sigma).reshape(40,1)\n",
    "A[230:270] = mlab.normpdf(x2, mu2, sigma2).reshape(40,1)\n",
    "A[420:460] = mlab.normpdf(x3, mu3, sigma3).reshape(40,1)\n",
    "A = A.reshape(559)\n",
    "A"
   ]
  },
  {
   "cell_type": "code",
   "execution_count": 8,
   "metadata": {
    "collapsed": true
   },
   "outputs": [],
   "source": [
    "B = np.zeros((559,1))\n",
    "B[23:63] = mlab.normpdf(x, mu, sigma).reshape(40,1)\n",
    "B[400:440] =  mlab.normpdf(x3, mu3, sigma3).reshape(40,1)\n",
    "B[470:510] = mlab.normpdf(x2, mu2, sigma2).reshape(40,1)\n",
    "B = B.reshape(559)"
   ]
  },
  {
   "cell_type": "code",
   "execution_count": 9,
   "metadata": {
    "collapsed": true
   },
   "outputs": [],
   "source": [
    "C = np.zeros((559, 1))\n",
    "C[320:360] = mlab.normpdf(x2, mu2, sigma2).reshape(40,1)\n",
    "C[433:473] = mlab.normpdf(x, mu, sigma).reshape(40,1)\n",
    "C[128:168] = mlab.normpdf(x3, mu3, sigma3).reshape(40,1)\n",
    "C = C.reshape(559)"
   ]
  },
  {
   "cell_type": "code",
   "execution_count": 10,
   "metadata": {
    "collapsed": true
   },
   "outputs": [],
   "source": [
    "D=np.arange(0,559)"
   ]
  },
  {
   "cell_type": "code",
   "execution_count": 11,
   "metadata": {
    "collapsed": false
   },
   "outputs": [
    {
     "data": {
      "image/png": "[encoded data removed]",
      "text/plain": [
       "<matplotlib.figure.Figure at 0x28ac1a3b240>"
      ]
     },
     "metadata": {},
     "output_type": "display_data"
    }
   ],
   "source": [
    "plt.plot(D,A)\n",
    "plt.show()"
   ]
  },
  {
   "cell_type": "code",
   "execution_count": 12,
   "metadata": {
    "collapsed": false
   },
   "outputs": [
    {
     "data": {
      "image/png": "[encoded data removed]",
      "text/plain": [
       "<matplotlib.figure.Figure at 0x28ac464c2e8>"
      ]
     },
     "metadata": {},
     "output_type": "display_data"
    }
   ],
   "source": [
    "plt.plot(D,B)\n",
    "plt.show()"
   ]
  },
  {
   "cell_type": "code",
   "execution_count": 13,
   "metadata": {
    "collapsed": false
   },
   "outputs": [
    {
     "data": {
      "image/png": "[encoded data removed]",
      "text/plain": [
       "<matplotlib.figure.Figure at 0x28ac46c3080>"
      ]
     },
     "metadata": {},
     "output_type": "display_data"
    }
   ],
   "source": [
    "plt.plot(D,C)\n",
    "plt.show()"
   ]
  },
  {
   "cell_type": "code",
   "execution_count": 14,
   "metadata": {
    "collapsed": false,
    "scrolled": true
   },
   "outputs": [
    {
     "data": {
      "text/plain": [
       "array([ 39, 251, 443], dtype=int64)"
      ]
     },
     "execution_count": 14,
     "metadata": {},
     "output_type": "execute_result"
    }
   ],
   "source": [
    "peakindices = peakutils.indexes(A,thres=0.10, min_dist=1)\n",
    "peakindices"
   ]
  },
  {
   "cell_type": "code",
   "execution_count": 15,
   "metadata": {
    "collapsed": false
   },
   "outputs": [
    {
     "data": {
      "image/png": "[encoded data removed]",
      "text/plain": [
       "<matplotlib.figure.Figure at 0x28ac4725978>"
      ]
     },
     "metadata": {},
     "output_type": "display_data"
    }
   ],
   "source": [
    "peakutils.plot.plot(D,A, peakindices)"
   ]
  },
  {
   "cell_type": "code",
   "execution_count": 16,
   "metadata": {
    "collapsed": true
   },
   "outputs": [],
   "source": [
    "spectralmatrix = np.zeros((256, 256, 559))\n",
    "functionalmatrix = np.zeros((256, 256))\n",
    "xaxis = spectralmatrix.shape[0]\n",
    "yaxis = spectralmatrix.shape[1]"
   ]
  },
  {
   "cell_type": "code",
   "execution_count": 17,
   "metadata": {
    "collapsed": true
   },
   "outputs": [],
   "source": [
    "spectralmatrix = np.zeros((256, 256, 559))\n",
    "functionalmatrix = np.zeros((256, 256))\n",
    "xaxis = spectralmatrix.shape[0]\n",
    "yaxis = spectralmatrix.shape[1]"
   ]
  },
  {
   "cell_type": "code",
   "execution_count": 18,
   "metadata": {
    "collapsed": true
   },
   "outputs": [],
   "source": [
    "np.random.seed(122)\n",
    "a=np.random.rand(1)\n",
    "b=np.random.rand(1)\n",
    "c=np.random.rand(1)"
   ]
  },
  {
   "cell_type": "code",
   "execution_count": 19,
   "metadata": {
    "collapsed": true
   },
   "outputs": [],
   "source": [
    "for x in range(xaxis):\n",
    "    for y in range(yaxis):\n",
    "            spectralmatrix[x][y] = (a*x**2 + b*y**2 + c*x*y)"
   ]
  },
  {
   "cell_type": "code",
   "execution_count": 20,
   "metadata": {
    "collapsed": false,
    "scrolled": true
   },
   "outputs": [],
   "source": [
    "#peakindices = peakutils.indexes(spectralmatrix[:,1], thres=0.10, min_dist=1)"
   ]
  },
  {
   "cell_type": "code",
   "execution_count": 21,
   "metadata": {
    "collapsed": true
   },
   "outputs": [],
   "source": [
    "from relativepeakintensities_varun import TotIntensity\n",
    "from relativepeakintensities_varun import RelIntensities"
   ]
  },
  {
   "cell_type": "code",
   "execution_count": 24,
   "metadata": {
    "collapsed": false
   },
   "outputs": [],
   "source": [
    "p=TotIntensity(A, thres=0.10, min_dist=1)"
   ]
  },
  {
   "cell_type": "code",
   "execution_count": 25,
   "metadata": {
    "collapsed": false
   },
   "outputs": [],
   "source": [
    "q=RelIntensities(A, peakindices[0], peakindices[1])"
   ]
  },
  {
   "cell_type": "code",
   "execution_count": 29,
   "metadata": {
    "collapsed": false
   },
   "outputs": [],
   "source": [
    "for x in range(xaxis):\n",
    "    for y in range(yaxis):\n",
    "            functionalmatrix[x][y] = (p*x**2 + q*y**(1/2) + q*p*x*y)"
   ]
  },
  {
   "cell_type": "code",
   "execution_count": 34,
   "metadata": {
    "collapsed": false
   },
   "outputs": [
    {
     "data": {
      "text/plain": [
       "array([[  0.00000000e+00,   1.41316793e+00,   1.99852126e+00, ...,\n",
       "          2.24778120e+01,   2.25221908e+01,   2.25664822e+01],\n",
       "       [  1.36093700e+00,   4.69733746e+00,   7.20592331e+00, ...,\n",
       "          5.10416578e+02,   5.12384189e+02,   5.14351713e+02],\n",
       "       [  5.44374799e+00,   1.07033810e+01,   1.51351994e+01, ...,\n",
       "          1.00107722e+03,   1.00496806e+03,   1.00885882e+03],\n",
       "       ..., \n",
       "       [  8.71122163e+04,   8.76002073e+04,   8.80873705e+04, ...,\n",
       "          2.10238885e+05,   2.10725507e+05,   2.11212129e+05],\n",
       "       [  8.78022114e+04,   8.82921256e+04,   8.87812120e+04, ...,\n",
       "          2.11415458e+05,   2.11904003e+05,   2.12392549e+05],\n",
       "       [  8.84949283e+04,   8.89867658e+04,   8.94777754e+04, ...,\n",
       "          2.12594752e+05,   2.13085221e+05,   2.13575690e+05]])"
      ]
     },
     "execution_count": 34,
     "metadata": {},
     "output_type": "execute_result"
    }
   ],
   "source": [
    "functionalmatrix"
   ]
  },
  {
   "cell_type": "code",
   "execution_count": null,
   "metadata": {
    "collapsed": true
   },
   "outputs": [],
   "source": []
  }
 ],
 "metadata": {
  "anaconda-cloud": {},
  "kernelspec": {
   "display_name": "Python [default]",
   "language": "python",
   "name": "python3"
  },
  "language_info": {
   "codemirror_mode": {
    "name": "ipython",
    "version": 3
   },
   "file_extension": ".py",
   "mimetype": "text/x-python",
   "name": "python",
   "nbconvert_exporter": "python",
   "pygments_lexer": "ipython3",
   "version": "3.5.2"
  }
 },
 "nbformat": 4,
 "nbformat_minor": 2
}
